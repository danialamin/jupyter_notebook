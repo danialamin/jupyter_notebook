{
  "metadata": {
    "language_info": {
      "codemirror_mode": {
        "name": "python",
        "version": 3
      },
      "file_extension": ".py",
      "mimetype": "text/x-python",
      "name": "python",
      "nbconvert_exporter": "python",
      "pygments_lexer": "ipython3",
      "version": "3.8"
    },
    "kernelspec": {
      "name": "python",
      "display_name": "Python (Pyodide)",
      "language": "python"
    }
  },
  "nbformat_minor": 4,
  "nbformat": 4,
  "cells": [
    {
      "cell_type": "markdown",
      "source": "# My jupyter notebook on IBM watson studio",
      "metadata": {}
    },
    {
      "cell_type": "markdown",
      "source": "__Muhammad Danial Amin__\nStudent",
      "metadata": {}
    },
    {
      "cell_type": "markdown",
      "source": "_I am interested in data science because i had a knack for mathematics from the beginning. I topped punjab in my o'levels mathematics exam. I want to work in the healthcare department of data science so that i can be useful in saving lives of people around me._",
      "metadata": {}
    },
    {
      "cell_type": "markdown",
      "source": "### cell 5 will display hello world",
      "metadata": {}
    },
    {
      "cell_type": "code",
      "source": "print('hello world!')",
      "metadata": {},
      "execution_count": null,
      "outputs": []
    },
    {
      "cell_type": "markdown",
      "source": "1. first item\n2. second item\n3. third item\n\n| programming language | python |\n\n[link to google](google.com)",
      "metadata": {}
    }
  ]
}